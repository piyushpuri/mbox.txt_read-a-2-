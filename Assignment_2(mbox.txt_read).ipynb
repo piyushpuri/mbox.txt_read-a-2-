{
 "cells": [
  {
   "cell_type": "code",
   "execution_count": 3,
   "id": "0d8d63d3",
   "metadata": {},
   "outputs": [],
   "source": [
    "import sqlite3\n",
    "import re"
   ]
  },
  {
   "cell_type": "code",
   "execution_count": 4,
   "id": "07e58641",
   "metadata": {},
   "outputs": [],
   "source": [
    "df = sqlite3.connect(\"Assignment_2(mbox.txt_read).db\")"
   ]
  },
  {
   "cell_type": "code",
   "execution_count": 5,
   "id": "980b9177",
   "metadata": {},
   "outputs": [],
   "source": [
    "cursor = df.cursor()"
   ]
  },
  {
   "cell_type": "code",
   "execution_count": 6,
   "id": "f3a90126",
   "metadata": {},
   "outputs": [
    {
     "data": {
      "text/plain": [
       "<sqlite3.Cursor at 0x1d02533adc0>"
      ]
     },
     "execution_count": 6,
     "metadata": {},
     "output_type": "execute_result"
    }
   ],
   "source": [
    "cursor.execute('''drop table if exists Counts''')"
   ]
  },
  {
   "cell_type": "code",
   "execution_count": 7,
   "id": "f5caa654",
   "metadata": {},
   "outputs": [
    {
     "data": {
      "text/plain": [
       "<sqlite3.Cursor at 0x1d02533adc0>"
      ]
     },
     "execution_count": 7,
     "metadata": {},
     "output_type": "execute_result"
    }
   ],
   "source": [
    "cursor.execute('''create table Counts(org TEXT, count INTEGER)''')"
   ]
  },
  {
   "cell_type": "markdown",
   "id": "7e90da54",
   "metadata": {},
   "source": [
    "### Another way of open and read a txt file\n",
    "\n",
    "with open('mbox.txt', 'r') as file:\n",
    "    file_contents = file.read()"
   ]
  },
  {
   "cell_type": "code",
   "execution_count": 8,
   "id": "4e3f5cdc",
   "metadata": {},
   "outputs": [],
   "source": [
    "file = open('mbox.txt')"
   ]
  },
  {
   "cell_type": "code",
   "execution_count": 9,
   "id": "f3229392",
   "metadata": {},
   "outputs": [],
   "source": [
    "for line in file:\n",
    "    if not line.startswith('From '):\n",
    "        continue\n",
    "    email = line.split()[1]\n",
    "    \n",
    "    org = email.split('@')[1]\n",
    "    \n",
    "    cursor.execute('''select count from Counts where org = ?''',(org,))\n",
    "    \n",
    "    rows = cursor.fetchone()\n",
    "    \n",
    "    if rows is None:\n",
    "        cursor.execute('''insert into Counts values (?,1)''',(org,))\n",
    "    else:\n",
    "        cursor.execute('''update Counts set count = count+1 where org = ?''',(org,))\n",
    "        \n",
    "        \n",
    "\n",
    "    \n",
    "    "
   ]
  },
  {
   "cell_type": "code",
   "execution_count": 10,
   "id": "433fbff8",
   "metadata": {},
   "outputs": [
    {
     "data": {
      "text/plain": [
       "<sqlite3.Cursor at 0x1d02533adc0>"
      ]
     },
     "execution_count": 10,
     "metadata": {},
     "output_type": "execute_result"
    }
   ],
   "source": [
    "cursor.execute('''select * from Counts order by count desc''')"
   ]
  },
  {
   "cell_type": "code",
   "execution_count": 11,
   "id": "98187bd5",
   "metadata": {},
   "outputs": [],
   "source": [
    "rows = cursor.fetchall()"
   ]
  },
  {
   "cell_type": "code",
   "execution_count": 12,
   "id": "fae75f16",
   "metadata": {},
   "outputs": [
    {
     "name": "stdout",
     "output_type": "stream",
     "text": [
      "iupui.edu 8\n",
      "umich.edu 7\n",
      "uct.ac.za 6\n",
      "media.berkeley.edu 4\n",
      "caret.cam.ac.uk 1\n",
      "gmail.com 1\n"
     ]
    }
   ],
   "source": [
    "for row in rows:\n",
    "    print(row[0] ,row[1])"
   ]
  },
  {
   "cell_type": "code",
   "execution_count": null,
   "id": "8d07564f",
   "metadata": {},
   "outputs": [],
   "source": []
  }
 ],
 "metadata": {
  "kernelspec": {
   "display_name": "Python 3 (ipykernel)",
   "language": "python",
   "name": "python3"
  },
  "language_info": {
   "codemirror_mode": {
    "name": "ipython",
    "version": 3
   },
   "file_extension": ".py",
   "mimetype": "text/x-python",
   "name": "python",
   "nbconvert_exporter": "python",
   "pygments_lexer": "ipython3",
   "version": "3.11.5"
  }
 },
 "nbformat": 4,
 "nbformat_minor": 5
}
